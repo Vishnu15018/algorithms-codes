{
 "cells": [
  {
   "cell_type": "code",
   "execution_count": 3,
   "id": "fe81a1be",
   "metadata": {},
   "outputs": [
    {
     "name": "stdout",
     "output_type": "stream",
     "text": [
      "[1, 2, 3, 4]\n",
      "[1, 2, 4, 3]\n",
      "[1, 3, 2, 4]\n",
      "[1, 3, 4, 2]\n",
      "[1, 4, 3, 2]\n",
      "[1, 4, 2, 3]\n",
      "[2, 1, 3, 4]\n",
      "[2, 1, 4, 3]\n",
      "[2, 3, 1, 4]\n",
      "[2, 3, 4, 1]\n",
      "[2, 4, 3, 1]\n",
      "[2, 4, 1, 3]\n",
      "[3, 2, 1, 4]\n",
      "[3, 2, 4, 1]\n",
      "[3, 1, 2, 4]\n",
      "[3, 1, 4, 2]\n",
      "[3, 4, 1, 2]\n",
      "[3, 4, 2, 1]\n",
      "[4, 2, 3, 1]\n",
      "[4, 2, 1, 3]\n",
      "[4, 3, 2, 1]\n",
      "[4, 3, 1, 2]\n",
      "[4, 1, 3, 2]\n",
      "[4, 1, 2, 3]\n",
      "x is  [[]]\n",
      "y is : []\n",
      "x is  [[], [4]]\n",
      "y is : []\n",
      "y is : [4]\n",
      "x is  [[], [4], [3], [3, 4]]\n",
      "y is : []\n",
      "y is : [4]\n",
      "y is : [3]\n",
      "y is : [3, 4]\n",
      "x is  [[], [4], [3], [3, 4], [2], [2, 4], [2, 3], [2, 3, 4]]\n",
      "y is : []\n",
      "y is : [4]\n",
      "y is : [3]\n",
      "y is : [3, 4]\n",
      "y is : [2]\n",
      "y is : [2, 4]\n",
      "y is : [2, 3]\n",
      "y is : [2, 3, 4]\n",
      "[[], [4], [3], [3, 4], [2], [2, 4], [2, 3], [2, 3, 4], [1], [1, 4], [1, 3], [1, 3, 4], [1, 2], [1, 2, 4], [1, 2, 3], [1, 2, 3, 4]]\n"
     ]
    }
   ],
   "source": [
    "#1st \n",
    "# a permutations\n",
    "import math\n",
    "list1=[1,2,3,4]\n",
    "def permut(list2,left,right):\n",
    "    if(left==right):\n",
    "        print(list2)\n",
    "    else:\n",
    "        for i in range(left,right):\n",
    "            list2[left],list2[i]=list2[i],list2[left]\n",
    "            permut(list2,left+1,right)\n",
    "            list2[left],list2[i]= list2[i],list2[left]\n",
    "            \n",
    "permut(list1,0,len(list1))\n",
    "#b subsets\n",
    "def subsets(numbers):\n",
    "    if numbers == []:\n",
    "        return [[]]\n",
    "    x = subsets(numbers[1:])\n",
    "    list1=[]\n",
    "    print(\"x is \",x)\n",
    "    for y in x:\n",
    "        \n",
    "        print(\"y is :\",y)\n",
    "        list1.append([numbers[0]]+y)\n",
    "    return x + list1\n",
    "    \n",
    "\n",
    "numbers = [1, 2,3,4]\n",
    "\n",
    "print(subsets(numbers))"
   ]
  },
  {
   "cell_type": "code",
   "execution_count": 31,
   "id": "52619caf",
   "metadata": {},
   "outputs": [
    {
     "data": {
      "text/plain": [
       "1"
      ]
     },
     "execution_count": 31,
     "metadata": {},
     "output_type": "execute_result"
    }
   ],
   "source": [
    "#Euclids algorithm \n",
    "#2nd one a:\n",
    "def gcd(a,b):\n",
    "    if a>=b:\n",
    "        a,b=a,b\n",
    "    else:\n",
    "        a,b=b,a\n",
    "    while (not(a%b==0)) :\n",
    "            temp=a;\n",
    "            a=int(a/b)\n",
    "            b=temp%b\n",
    "    return b\n",
    "print(gcd(30,36))\n",
    "#2nd one b:\n",
    "def gcd_list(list1):\n",
    "    if(len(list1)>=2):\n",
    "        gcd1=gcd(list1[0],list1[1])\n",
    "    for i in range(2,len(list1)):\n",
    "        gcd1=gcd(gcd1,list1[i])\n",
    "    return gcd1\n",
    "k=int(input(\"please enter a the list size : \"))\n",
    "list1=[]\n",
    "for i in range(k):\n",
    "    x=int(input(\"please enter the elemnts of a list: \"))\n",
    "    list1.append(x)\n",
    "print(gcd_list(list1))"
   ]
  },
  {
   "cell_type": "code",
   "execution_count": 9,
   "id": "706de4de",
   "metadata": {},
   "outputs": [
    {
     "name": "stdout",
     "output_type": "stream",
     "text": [
      "After first implementation max amd min are; \n",
      "minimum is  39\n",
      "maximum of is  9999881\n",
      "After second implementation max amd min are; \n",
      "minimum is  39\n",
      "maximum is  9999881\n",
      "After Third implementation max amd min are; \n",
      "minimum:  39\n",
      "maximum: 9999881\n"
     ]
    }
   ],
   "source": [
    "#3 1st implementation\n",
    "def max_min_1st(list1):\n",
    "    max=list1[0]\n",
    "    min=list1[0]\n",
    "    for i in range(1,len(list1)):\n",
    "        if(list1[i]>max):\n",
    "            max=list1[i]\n",
    "        if(list1[i]<min):\n",
    "            min=list1[i]\n",
    "    print(\"minimum is \" ,min)\n",
    "    print(\"maximum of is \" ,max)\n",
    "#3 2nd implementation\n",
    "# def selection_sort(list1):\n",
    "#     for i in range(len(list1)):\n",
    "#         for j in range(i,len(list1)):\n",
    "#             if(list1[j]<list1[i]):\n",
    "#                 list1[i],list1[j]=list1[j],list1[i]\n",
    "    \n",
    "\n",
    "def max_min_2nd(list1):\n",
    "    #selection_sort(list1)\n",
    "    list1.sort()\n",
    "    print(\"minimum is \" ,list1[0])\n",
    "    print(\"maximum is \" ,list1[len(list1)-1])\n",
    "import random\n",
    "list2=[]\n",
    "for i in range(100001):\n",
    "    list2.append(random.randrange(10000000))\n",
    "print(\"After first implementation max amd min are; \")\n",
    "max_min_1st(list2)\n",
    "print(\"After second implementation max amd min are; \")\n",
    "max_min_2nd(list2)\n",
    "#3rd one 3rd implementation\n",
    "import heapq\n",
    "   \n",
    "\n",
    "heapq.heapify(list2)    \n",
    "print(\"After Third implementation max amd min are; \")\n",
    "print(\"minimum: \",heapq.heappop(list2))         # for a min heap\n",
    "heapq._heapify_max(list2)\n",
    "# heapq.heappop()  \n",
    "\n",
    "print('maximum:',heapq._heappop_max(list2))\n"
   ]
  },
  {
   "cell_type": "code",
   "execution_count": null,
   "id": "88e0e0c5",
   "metadata": {},
   "outputs": [],
   "source": []
  },
  {
   "cell_type": "code",
   "execution_count": 38,
   "id": "222baaa5",
   "metadata": {},
   "outputs": [
    {
     "name": "stdout",
     "output_type": "stream",
     "text": [
      "please enter a the list size : 3\n",
      "please enter the elemnts of a list: 1\n",
      "please enter the elemnts of a list: 2\n",
      "please enter the elemnts of a list: 3\n"
     ]
    },
    {
     "data": {
      "text/plain": [
       "1"
      ]
     },
     "execution_count": 38,
     "metadata": {},
     "output_type": "execute_result"
    }
   ],
   "source": []
  },
  {
   "cell_type": "code",
   "execution_count": null,
   "id": "d08cd192",
   "metadata": {},
   "outputs": [],
   "source": [
    "#3 1st implementation\n",
    "def max_min_1st(list1):\n",
    "    max=list1[0]\n",
    "    min=list1[0]\n",
    "    for i in range(1,len(list1)):\n",
    "        if(list1[i]>max):\n",
    "            max=list1[i]\n",
    "        if(list1[i]<min):\n",
    "            min=list1[i]\n",
    "    print(\"minimum is \" ,min)\n",
    "    print(\"maximum of is \" ,max)\n",
    "#3 2nd implementation\n",
    "def selection_sort(list1):\n",
    "    for i in range(len(list1)):\n",
    "        for j in range(i,len(list1)):\n",
    "            if(list1[j]<list1[i]):\n",
    "                list1[i],list1[j]=list1[j],list1[i]\n",
    "    \n",
    "\n",
    "def max_min_2nd(list1):\n",
    "    selection_sort(list1)\n",
    "    print(\"minimum of is \" ,list1[0])\n",
    "    print(\"maximum of is \" ,list1[len(list1)-1])\n",
    "import random\n",
    "list2=[]\n",
    "for i in range(100001):\n",
    "    list2.append(random.randrange(10000000))\n",
    "#max_min_1st(list2)\n",
    "#max_min_2nd(list2)\n",
    "\n",
    "\n"
   ]
  },
  {
   "cell_type": "code",
   "execution_count": null,
   "id": "b154c5e7",
   "metadata": {},
   "outputs": [],
   "source": [
    "#3 1st implementation\n",
    "def max_min_1st(list1):\n",
    "    max=list1[0]\n",
    "    min=list1[0]\n",
    "    for i in range(1,len(list1)):\n",
    "        if(list1[i]>max):\n",
    "            max=list1[i]\n",
    "        if(list1[i]<min):\n",
    "            min=list1[i]\n",
    "    print(\"minimum is \" ,min)\n",
    "    print(\"maximum of is \" ,max)\n",
    "#3 2nd implementation\n",
    "def selection_sort(list1):\n",
    "    for i in range(len(list1)):\n",
    "        for j in range(i,len(list1)):\n",
    "            if(list1[j]<list1[i]):\n",
    "                list1[i],list1[j]=list1[j],list1[i]\n",
    "    \n",
    "\n",
    "def max_min_2nd(list1):\n",
    "    selection_sort(list1)\n",
    "    print(\"minimum of is \" ,list1[0])\n",
    "    print(\"maximum of is \" ,list1[len(list1)-1])\n",
    "import random\n",
    "list2=[]\n",
    "for i in range(100001):\n",
    "    list2.append(random.randrange(10000000))\n",
    "#max_min_1st(list2)\n",
    "#max_min_2nd(list2)\n",
    "\n",
    "\n",
    "\n"
   ]
  },
  {
   "cell_type": "code",
   "execution_count": 2,
   "id": "4d62b0e7",
   "metadata": {},
   "outputs": [
    {
     "name": "stdout",
     "output_type": "stream",
     "text": [
      "[1, 4, 2, 5, 62, 4]\n"
     ]
    },
    {
     "ename": "TypeError",
     "evalue": "percolate_down() missing 1 required positional argument: 'hole'",
     "output_type": "error",
     "traceback": [
      "\u001b[1;31m---------------------------------------------------------------------------\u001b[0m",
      "\u001b[1;31mTypeError\u001b[0m                                 Traceback (most recent call last)",
      "\u001b[1;32m<ipython-input-2-b3f6ac7d3a90>\u001b[0m in \u001b[0;36m<module>\u001b[1;34m\u001b[0m\n\u001b[0;32m     15\u001b[0m \u001b[0mheap\u001b[0m\u001b[1;33m=\u001b[0m\u001b[1;33m[\u001b[0m\u001b[1;36m1\u001b[0m\u001b[1;33m,\u001b[0m\u001b[1;36m4\u001b[0m\u001b[1;33m,\u001b[0m\u001b[1;36m2\u001b[0m\u001b[1;33m,\u001b[0m\u001b[1;36m5\u001b[0m\u001b[1;33m,\u001b[0m\u001b[1;36m62\u001b[0m\u001b[1;33m,\u001b[0m\u001b[1;36m4\u001b[0m\u001b[1;33m]\u001b[0m\u001b[1;33m\u001b[0m\u001b[1;33m\u001b[0m\u001b[0m\n\u001b[0;32m     16\u001b[0m \u001b[0mprint\u001b[0m\u001b[1;33m(\u001b[0m\u001b[0mheap\u001b[0m\u001b[1;33m)\u001b[0m\u001b[1;33m\u001b[0m\u001b[1;33m\u001b[0m\u001b[0m\n\u001b[1;32m---> 17\u001b[1;33m \u001b[0mbuild_heap\u001b[0m\u001b[1;33m(\u001b[0m\u001b[0mheap\u001b[0m\u001b[1;33m)\u001b[0m\u001b[1;33m\u001b[0m\u001b[1;33m\u001b[0m\u001b[0m\n\u001b[0m\u001b[0;32m     18\u001b[0m \u001b[0mprint\u001b[0m\u001b[1;33m(\u001b[0m\u001b[0mheap\u001b[0m\u001b[1;33m)\u001b[0m\u001b[1;33m\u001b[0m\u001b[1;33m\u001b[0m\u001b[0m\n",
      "\u001b[1;32m<ipython-input-2-b3f6ac7d3a90>\u001b[0m in \u001b[0;36mbuild_heap\u001b[1;34m(list1)\u001b[0m\n\u001b[0;32m     11\u001b[0m     \u001b[0mi\u001b[0m\u001b[1;33m=\u001b[0m\u001b[1;33m(\u001b[0m\u001b[0mlen\u001b[0m\u001b[1;33m(\u001b[0m\u001b[0mlist1\u001b[0m\u001b[1;33m)\u001b[0m\u001b[1;33m-\u001b[0m\u001b[1;36m2\u001b[0m\u001b[1;33m)\u001b[0m\u001b[1;33m/\u001b[0m\u001b[1;36m2\u001b[0m\u001b[1;33m\u001b[0m\u001b[1;33m\u001b[0m\u001b[0m\n\u001b[0;32m     12\u001b[0m     \u001b[1;32mwhile\u001b[0m\u001b[1;33m(\u001b[0m\u001b[0mi\u001b[0m\u001b[1;33m>=\u001b[0m\u001b[1;36m0\u001b[0m\u001b[1;33m)\u001b[0m\u001b[1;33m:\u001b[0m\u001b[1;33m\u001b[0m\u001b[1;33m\u001b[0m\u001b[0m\n\u001b[1;32m---> 13\u001b[1;33m         \u001b[0mpercolate_down\u001b[0m\u001b[1;33m(\u001b[0m\u001b[0mi\u001b[0m\u001b[1;33m)\u001b[0m\u001b[1;33m\u001b[0m\u001b[1;33m\u001b[0m\u001b[0m\n\u001b[0m\u001b[0;32m     14\u001b[0m         \u001b[0mi\u001b[0m\u001b[1;33m=\u001b[0m\u001b[0mi\u001b[0m\u001b[1;33m-\u001b[0m\u001b[1;36m1\u001b[0m\u001b[1;33m\u001b[0m\u001b[1;33m\u001b[0m\u001b[0m\n\u001b[0;32m     15\u001b[0m \u001b[0mheap\u001b[0m\u001b[1;33m=\u001b[0m\u001b[1;33m[\u001b[0m\u001b[1;36m1\u001b[0m\u001b[1;33m,\u001b[0m\u001b[1;36m4\u001b[0m\u001b[1;33m,\u001b[0m\u001b[1;36m2\u001b[0m\u001b[1;33m,\u001b[0m\u001b[1;36m5\u001b[0m\u001b[1;33m,\u001b[0m\u001b[1;36m62\u001b[0m\u001b[1;33m,\u001b[0m\u001b[1;36m4\u001b[0m\u001b[1;33m]\u001b[0m\u001b[1;33m\u001b[0m\u001b[1;33m\u001b[0m\u001b[0m\n",
      "\u001b[1;31mTypeError\u001b[0m: percolate_down() missing 1 required positional argument: 'hole'"
     ]
    }
   ],
   "source": [
    "\n",
    "def percolate_down(list1,hole):\n",
    "    temp=heap[hole]\n",
    "    while((2*hole+1)<=len(list1)):\n",
    "        child=2*hole+1\n",
    "        if(child<len(list1) and list1[child+1]<list1[child]):\n",
    "            child=child+1;\n",
    "        if(list1[child]<temp):\n",
    "            list1[hole]=list1[child]\n",
    "        hole=child;\n",
    "def build_heap(list1):\n",
    "    i=(len(list1)-2)/2\n",
    "    while(i>=0):\n",
    "        percolate_down(i)\n",
    "        i=i-1\n",
    "heap=[1,4,2,5,62,4] \n",
    "print(heap)\n",
    "build_heap(heap)\n",
    "print(heap)\n"
   ]
  },
  {
   "cell_type": "code",
   "execution_count": 8,
   "id": "4e1839eb",
   "metadata": {},
   "outputs": [
    {
     "name": "stdout",
     "output_type": "stream",
     "text": [
      "minimum:  9999945\n",
      "maximum:  199708\n"
     ]
    }
   ],
   "source": [
    "import heapq\n",
    "import random\n",
    "list2=[]\n",
    "for i in range(100001):\n",
    "    list2.append(random.randrange(10000000))\n",
    "listForTree = list2    \n",
    "listForTree1 = list2\n",
    "min_heap=heapq.heapify(listForTree)             # for a min heap\n",
    "max_heap=heapq._heapify_max(listForTree1)\n",
    "# heapq.heappop() \n",
    "print(maximum)\n",
    "print(\"minimum: \",heapq.heappop(listForTree))\n",
    "print(\"maximum: \",heapq._heappop_max(listForTree1))"
   ]
  }
 ],
 "metadata": {
  "kernelspec": {
   "display_name": "Python 3",
   "language": "python",
   "name": "python3"
  },
  "language_info": {
   "codemirror_mode": {
    "name": "ipython",
    "version": 3
   },
   "file_extension": ".py",
   "mimetype": "text/x-python",
   "name": "python",
   "nbconvert_exporter": "python",
   "pygments_lexer": "ipython3",
   "version": "3.8.8"
  }
 },
 "nbformat": 4,
 "nbformat_minor": 5
}
