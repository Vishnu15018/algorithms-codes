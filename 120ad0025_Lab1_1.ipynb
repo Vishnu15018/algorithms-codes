{
 "cells": [
  {
   "cell_type": "code",
   "execution_count": 1,
   "id": "83826f25",
   "metadata": {},
   "outputs": [
    {
     "name": "stdout",
     "output_type": "stream",
     "text": [
      "permutation of a list [1, 2, 3] are :\n",
      "[1, 2, 3]\n",
      "[1, 3, 2]\n",
      "[2, 1, 3]\n",
      "[2, 3, 1]\n",
      "[3, 2, 1]\n",
      "[3, 1, 2]\n",
      "subsets of a set [1, 2, 3] are : [[], [3], [2], [2, 3], [1], [1, 3], [1, 2], [1, 2, 3]]\n"
     ]
    }
   ],
   "source": [
    "#1st \n",
    "# a permutations\n",
    "import math\n",
    "list1=[1,2,3]\n",
    "def permut(list2,left,right):\n",
    "    if(left==right):\n",
    "        print(list2)\n",
    "    else:\n",
    "        for i in range(left,right):\n",
    "            list2[left],list2[i]=list2[i],list2[left]\n",
    "            permut(list2,left+1,right)\n",
    "            list2[left],list2[i]= list2[i],list2[left]\n",
    "print(\"permutation of a list {} are :\".format(list1))            \n",
    "permut(list1,0,len(list1))\n",
    "#b subsets\n",
    "def subsets(numbers):\n",
    "    if numbers == []:\n",
    "        return [[]]\n",
    "    x = subsets(numbers[1:])\n",
    "    list1=[]\n",
    "    for y in x:\n",
    "        list1.append([numbers[0]]+y)\n",
    "    return x + list1\n",
    "    \n",
    "\n",
    "numbers = [1, 2,3]\n",
    "print(\"subsets of a set {} are : \".format(numbers),end=\"\")\n",
    "print(subsets(numbers))"
   ]
  }
 ],
 "metadata": {
  "kernelspec": {
   "display_name": "Python 3",
   "language": "python",
   "name": "python3"
  },
  "language_info": {
   "codemirror_mode": {
    "name": "ipython",
    "version": 3
   },
   "file_extension": ".py",
   "mimetype": "text/x-python",
   "name": "python",
   "nbconvert_exporter": "python",
   "pygments_lexer": "ipython3",
   "version": "3.8.8"
  }
 },
 "nbformat": 4,
 "nbformat_minor": 5
}
