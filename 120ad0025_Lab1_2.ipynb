{
 "cells": [
  {
   "cell_type": "code",
   "execution_count": 2,
   "id": "896d0f2e",
   "metadata": {},
   "outputs": [
    {
     "name": "stdout",
     "output_type": "stream",
     "text": [
      "1\n",
      "please enter a the list size : 5\n",
      "please enter the elemnts of a list: 1\n",
      "please enter the elemnts of a list: 2\n",
      "please enter the elemnts of a list: 3\n",
      "please enter the elemnts of a list: 4\n",
      "please enter the elemnts of a list: 5\n",
      "1\n"
     ]
    }
   ],
   "source": [
    "#Euclids algorithm \n",
    "#2nd one a:\n",
    "def gcd(a,b):\n",
    "    if a>=b:\n",
    "        a,b=a,b\n",
    "    else:\n",
    "        a,b=b,a\n",
    "    while (not(a%b==0)) :\n",
    "            temp=a;\n",
    "            a=int(a/b)\n",
    "            b=temp%b\n",
    "    return b\n",
    "#2nd one b:\n",
    "def gcd_list(list1):\n",
    "    if(len(list1)>=2):\n",
    "        gcd1=gcd(list1[0],list1[1])\n",
    "    for i in range(2,len(list1)):\n",
    "        gcd1=gcd(gcd1,list1[i])\n",
    "    return gcd1\n",
    "k=int(input(\"please enter a the list size : \"))\n",
    "list1=[]\n",
    "for i in range(k):\n",
    "    x=int(input(\"please enter the elemnts of a list: \"))\n",
    "    list1.append(x)\n",
    "print(gcd_list(list1))"
   ]
  }
 ],
 "metadata": {
  "kernelspec": {
   "display_name": "Python 3",
   "language": "python",
   "name": "python3"
  },
  "language_info": {
   "codemirror_mode": {
    "name": "ipython",
    "version": 3
   },
   "file_extension": ".py",
   "mimetype": "text/x-python",
   "name": "python",
   "nbconvert_exporter": "python",
   "pygments_lexer": "ipython3",
   "version": "3.8.8"
  }
 },
 "nbformat": 4,
 "nbformat_minor": 5
}
