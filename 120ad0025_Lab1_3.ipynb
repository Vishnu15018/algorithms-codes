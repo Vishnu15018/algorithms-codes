{
 "cells": [
  {
   "cell_type": "code",
   "execution_count": 13,
   "id": "1dcc6ca7",
   "metadata": {},
   "outputs": [
    {
     "name": "stdout",
     "output_type": "stream",
     "text": [
      "After first implementation max amd min are; \n",
      "minimum is  20\n",
      "maximum of is  9999522\n",
      "After second implementation max amd min are; \n",
      "minimum is  20\n",
      "maximum is  9999522\n",
      "minimum:  20\n",
      "Maximum:  9999522\n"
     ]
    }
   ],
   "source": [
    "#3 1st implementation\n",
    "def max_min_1st(list1):\n",
    "    max=list1[0]\n",
    "    min=list1[0]\n",
    "    for i in range(1,len(list1)):\n",
    "        if(list1[i]>max):\n",
    "            max=list1[i]\n",
    "        if(list1[i]<min):\n",
    "            min=list1[i]\n",
    "    print(\"minimum is \" ,min)\n",
    "    print(\"maximum of is \" ,max)\n",
    "#3 2nd implementation\n",
    "# def selection_sort(list1):\n",
    "#     for i in range(len(list1)):\n",
    "#         for j in range(i,len(list1)):\n",
    "#             if(list1[j]<list1[i]):\n",
    "#                 list1[i],list1[j]=list1[j],list1[i]\n",
    "    \n",
    "\n",
    "def max_min_2nd(list1):\n",
    "    #selection_sort(list1)\n",
    "    list1.sort()\n",
    "    print(\"minimum is \" ,list1[0])\n",
    "    print(\"maximum is \" ,list1[len(list1)-1])\n",
    "import random\n",
    "list2=[]\n",
    "for i in range(100001):\n",
    "    list2.append(random.randrange(10000000))\n",
    "print(\"After first implementation max amd min are; \")\n",
    "max_min_1st(list2)\n",
    "print(\"After second implementation max amd min are; \")\n",
    "max_min_2nd(list2)\n",
    "#3rd one 3rd implementation\n",
    "\n",
    "#3rd one 3rd implementation\n",
    "\n",
    "import math\n",
    "def divide_conquer_min(list1,n):\n",
    "    if(n==1):\n",
    "        return list1[0]\n",
    "    else:\n",
    "        left=list1[:math.floor(n/2)]\n",
    "        right=list1[math.floor(n/2):]\n",
    "        max1=divide_conquer_min(left,len(left))\n",
    "        max2=divide_conquer_min(right,len(right))\n",
    "        return min(max1,max2)\n",
    "print(\"minimum: \",divide_conquer_min(list2,100000))\n",
    "\n",
    "def divide_conquer_max(list1,n):\n",
    "    if(n==1):\n",
    "        return list1[0]\n",
    "    else:\n",
    "        left=list1[:math.floor(n/2)]\n",
    "        right=list1[math.floor(n/2):]\n",
    "        max1=divide_conquer_max(left,len(left))\n",
    "        max2=divide_conquer_max(right,len(right))\n",
    "        return max(max1,max2)\n",
    "print(\"Maximum: \",divide_conquer_max(list2,100000))\n"
   ]
  }
 ],
 "metadata": {
  "kernelspec": {
   "display_name": "Python 3",
   "language": "python",
   "name": "python3"
  },
  "language_info": {
   "codemirror_mode": {
    "name": "ipython",
    "version": 3
   },
   "file_extension": ".py",
   "mimetype": "text/x-python",
   "name": "python",
   "nbconvert_exporter": "python",
   "pygments_lexer": "ipython3",
   "version": "3.8.8"
  }
 },
 "nbformat": 4,
 "nbformat_minor": 5
}
